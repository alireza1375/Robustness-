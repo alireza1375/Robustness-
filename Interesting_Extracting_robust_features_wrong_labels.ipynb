{
  "nbformat": 4,
  "nbformat_minor": 0,
  "metadata": {
    "colab": {
      "provenance": []
    },
    "kernelspec": {
      "name": "python3",
      "display_name": "Python 3"
    },
    "language_info": {
      "name": "python"
    },
    "accelerator": "GPU",
    "gpuClass": "standard"
  },
  "cells": [
    {
      "cell_type": "code",
      "source": [
        "import numpy as np"
      ],
      "metadata": {
        "id": "PPfZe5dOSARv"
      },
      "execution_count": 234,
      "outputs": []
    },
    {
      "cell_type": "code",
      "source": [
        "from google.colab import drive\n",
        "drive.mount('/content/drive')"
      ],
      "metadata": {
        "colab": {
          "base_uri": "https://localhost:8080/"
        },
        "id": "gE2hpdKMSEVd",
        "outputId": "28820106-2a42-4cd9-f867-f7cb8b3bf924"
      },
      "execution_count": 235,
      "outputs": [
        {
          "output_type": "stream",
          "name": "stdout",
          "text": [
            "Drive already mounted at /content/drive; to attempt to forcibly remount, call drive.mount(\"/content/drive\", force_remount=True).\n"
          ]
        }
      ]
    },
    {
      "cell_type": "markdown",
      "source": [
        "usefull"
      ],
      "metadata": {
        "id": "94B7Ckj5aehy"
      }
    },
    {
      "cell_type": "code",
      "source": [
        "Correlation_normal_cifar=np.load('drive/MyDrive/Correlation_normal_cifar.npy')\n",
        "Correlation_normal_cifar=np.absolute(Correlation_normal_cifar)"
      ],
      "metadata": {
        "id": "nxNHH4AgZ3MR"
      },
      "execution_count": 236,
      "outputs": []
    },
    {
      "cell_type": "code",
      "source": [
        "Correlation_normal_cifar.shape"
      ],
      "metadata": {
        "colab": {
          "base_uri": "https://localhost:8080/"
        },
        "id": "G6RlgInnZj_t",
        "outputId": "89bd2f61-2c8e-411e-f088-d5eb61155f6d"
      },
      "execution_count": null,
      "outputs": [
        {
          "output_type": "execute_result",
          "data": {
            "text/plain": [
              "(1024,)"
            ]
          },
          "metadata": {},
          "execution_count": 5
        }
      ]
    },
    {
      "cell_type": "code",
      "source": [
        "i=0"
      ],
      "metadata": {
        "id": "T1boEQpikbLh"
      },
      "execution_count": 237,
      "outputs": []
    },
    {
      "cell_type": "code",
      "source": [
        "for j in range(1024):\n",
        "  if Correlation_normal_cifar[j] > 1.7e-02:\n",
        "    i=i+1\n",
        "print(\"i:\", i)"
      ],
      "metadata": {
        "colab": {
          "base_uri": "https://localhost:8080/"
        },
        "id": "y7W_n3xzZ3HJ",
        "outputId": "533820cf-0651-4aa6-f64c-bd481af749a9"
      },
      "execution_count": 238,
      "outputs": [
        {
          "output_type": "stream",
          "name": "stdout",
          "text": [
            "i: 801\n"
          ]
        }
      ]
    },
    {
      "cell_type": "markdown",
      "source": [
        "robust"
      ],
      "metadata": {
        "id": "Gdh9dcYbasd6"
      }
    },
    {
      "cell_type": "code",
      "source": [
        "Correlation_perturbed_cifar=np.load('drive/MyDrive/Correlation_perturbed_cifar.npy')\n",
        "Correlation_perturbed_cifar=np.absolute(Correlation_perturbed_cifar)"
      ],
      "metadata": {
        "id": "17ZK_j4ZZ3Ap"
      },
      "execution_count": 239,
      "outputs": []
    },
    {
      "cell_type": "code",
      "source": [
        "i=0"
      ],
      "metadata": {
        "id": "aFtKi856kHVS"
      },
      "execution_count": 240,
      "outputs": []
    },
    {
      "cell_type": "code",
      "source": [
        "for j in range(1024):\n",
        "  if Correlation_perturbed_cifar[j] > 3.5e-02:\n",
        "    i=i+1\n",
        "print(\"i:\", i)"
      ],
      "metadata": {
        "colab": {
          "base_uri": "https://localhost:8080/"
        },
        "id": "lkVTNHY5Z25J",
        "outputId": "3ee94e6e-e398-4c37-fbeb-13d8eb53e013"
      },
      "execution_count": 241,
      "outputs": [
        {
          "output_type": "stream",
          "name": "stdout",
          "text": [
            "i: 397\n"
          ]
        }
      ]
    },
    {
      "cell_type": "code",
      "source": [
        "for j in range(1024):\n",
        "  if Correlation_perturbed_cifar[j] > 9e-02:\n",
        "    i=i+1\n",
        "print(\"i:\", i)"
      ],
      "metadata": {
        "colab": {
          "base_uri": "https://localhost:8080/"
        },
        "id": "8sQJqECCFSt3",
        "outputId": "f7e88a99-5fda-43aa-d37c-f5b36b377cc0"
      },
      "execution_count": 243,
      "outputs": [
        {
          "output_type": "stream",
          "name": "stdout",
          "text": [
            "i: 115\n"
          ]
        }
      ]
    },
    {
      "cell_type": "code",
      "source": [
        "i=0"
      ],
      "metadata": {
        "id": "ObjmkfVs7UL3"
      },
      "execution_count": 242,
      "outputs": []
    },
    {
      "cell_type": "code",
      "source": [
        "for j in range(1024):\n",
        "  if Correlation_perturbed_cifar[j] > 3.5e-02 and Correlation_normal_cifar[j] > 1.7e-02:\n",
        "    i=i+1\n",
        "print(\"i:\", i)"
      ],
      "metadata": {
        "colab": {
          "base_uri": "https://localhost:8080/"
        },
        "id": "HFxJ3IPr7C7B",
        "outputId": "81eaaa84-0513-49a1-a838-391fd2e01116"
      },
      "execution_count": null,
      "outputs": [
        {
          "output_type": "stream",
          "name": "stdout",
          "text": [
            "i: 377\n"
          ]
        }
      ]
    },
    {
      "cell_type": "code",
      "source": [
        "for j in range(1024):\n",
        "  if Correlation_perturbed_cifar[j] > 9e-02 and Correlation_normal_cifar[j] > 1.7e-02:\n",
        "    i=i+1\n",
        "print(\"i:\", i)"
      ],
      "metadata": {
        "colab": {
          "base_uri": "https://localhost:8080/"
        },
        "id": "_OsWWR_iC4Mv",
        "outputId": "efeb26f7-8c2b-4e8b-8771-48bb623a857b"
      },
      "execution_count": null,
      "outputs": [
        {
          "output_type": "stream",
          "name": "stdout",
          "text": [
            "i: 115\n"
          ]
        }
      ]
    },
    {
      "cell_type": "markdown",
      "source": [
        "wrong lable"
      ],
      "metadata": {
        "id": "ECEqdCf5y9xk"
      }
    },
    {
      "cell_type": "code",
      "source": [
        "Correlation_robust_input_wrong_label_cifar=np.load('drive/MyDrive/Correlation_robust_input_wrong_label_cifar.npy')\n",
        "\n",
        "Correlation_robust_input_wrong_label_cifar=np.absolute(Correlation_robust_input_wrong_label_cifar)"
      ],
      "metadata": {
        "id": "iSapPrQsy8yT"
      },
      "execution_count": 244,
      "outputs": []
    },
    {
      "cell_type": "code",
      "source": [
        "i=0"
      ],
      "metadata": {
        "id": "PF1glubP3Dm9"
      },
      "execution_count": 330,
      "outputs": []
    },
    {
      "cell_type": "code",
      "source": [
        "for j in range(1024):\n",
        "  if Correlation_robust_input_wrong_label_cifar[j] > 1e-02:\n",
        "    i=i+1\n",
        "print(\"i:\", i)"
      ],
      "metadata": {
        "colab": {
          "base_uri": "https://localhost:8080/"
        },
        "id": "HG6MFquK2d5c",
        "outputId": "f2b26e9e-09c2-4278-ed29-8d58492adc7a"
      },
      "execution_count": 331,
      "outputs": [
        {
          "output_type": "stream",
          "name": "stdout",
          "text": [
            "i: 405\n"
          ]
        }
      ]
    },
    {
      "cell_type": "code",
      "source": [
        "for j in range(1024):\n",
        "  if Correlation_perturbed_cifar[j] > 3.5e-02 and Correlation_normal_cifar[j] > 1.7e-02 and Correlation_robust_input_wrong_label_cifar[j] > 2e-02:\n",
        "    i=i+1\n",
        "print(\"i:\", i)"
      ],
      "metadata": {
        "colab": {
          "base_uri": "https://localhost:8080/"
        },
        "id": "MCelmD91EFlX",
        "outputId": "b3f2f141-0e22-4dc2-9ad1-da3bc1fc8c07"
      },
      "execution_count": null,
      "outputs": [
        {
          "output_type": "stream",
          "name": "stdout",
          "text": [
            "i: 75\n"
          ]
        }
      ]
    },
    {
      "cell_type": "code",
      "source": [
        "for j in range(1024):\n",
        "  if Correlation_perturbed_cifar[j] > 9e-02 and Correlation_normal_cifar[j] > 1.7e-02 and Correlation_robust_input_wrong_label_cifar[j] > 2e-02:\n",
        "    i=i+1\n",
        "print(\"i:\", i)"
      ],
      "metadata": {
        "colab": {
          "base_uri": "https://localhost:8080/"
        },
        "id": "CouVJI1IE_aM",
        "outputId": "cf88680a-8c01-421b-eed6-26f3faef1dd7"
      },
      "execution_count": null,
      "outputs": [
        {
          "output_type": "stream",
          "name": "stdout",
          "text": [
            "i: 45\n"
          ]
        }
      ]
    },
    {
      "cell_type": "markdown",
      "source": [
        "non_robust"
      ],
      "metadata": {
        "id": "H4XV5PaJau8R"
      }
    },
    {
      "cell_type": "code",
      "source": [
        "Correlation_robust_input_cifar=np.load('drive/MyDrive/Correlation_robust_input_cifar.npy')\n",
        "Correlation_robust_input_cifar=np.absolute(Correlation_robust_input_cifar)"
      ],
      "metadata": {
        "id": "M2ANUcgkh-zw"
      },
      "execution_count": 248,
      "outputs": []
    },
    {
      "cell_type": "code",
      "source": [
        "i=0"
      ],
      "metadata": {
        "id": "6UGM3x6ikl3Z"
      },
      "execution_count": null,
      "outputs": []
    },
    {
      "cell_type": "code",
      "source": [
        "for j in range(1024):\n",
        "  if Correlation_robust_input_cifar[j] < 3e-02:\n",
        "    i=i+1\n",
        "print(\"i:\", i)"
      ],
      "metadata": {
        "colab": {
          "base_uri": "https://localhost:8080/"
        },
        "id": "_KiWy-5qD2ec",
        "outputId": "584d4925-e61a-47f2-fff8-ea61e92cee59"
      },
      "execution_count": null,
      "outputs": [
        {
          "output_type": "stream",
          "name": "stdout",
          "text": [
            "i: 409\n"
          ]
        }
      ]
    },
    {
      "cell_type": "code",
      "source": [
        "for j in range(1024):\n",
        "  if Correlation_robust_input_cifar[j] < 3e-02 and Correlation_perturbed_cifar[j] > 3.5e-02:\n",
        "    i=i+1\n",
        "print(\"i:\", i)"
      ],
      "metadata": {
        "colab": {
          "base_uri": "https://localhost:8080/"
        },
        "id": "SReJgJMiuiEs",
        "outputId": "9a0c044c-f120-4f92-b531-2edf9bfdb33b"
      },
      "execution_count": null,
      "outputs": [
        {
          "output_type": "stream",
          "name": "stdout",
          "text": [
            "i: 54\n"
          ]
        }
      ]
    },
    {
      "cell_type": "code",
      "source": [
        "for j in range(1024):\n",
        "  if Correlation_robust_input_cifar[j] < 3e-02 and Correlation_normal_cifar[j] > 1.7e-02:\n",
        "    i=i+1\n",
        "print(\"i:\", i)"
      ],
      "metadata": {
        "colab": {
          "base_uri": "https://localhost:8080/"
        },
        "id": "MPYcZUWeuq10",
        "outputId": "6d9b2401-884e-4eaa-ed7e-a1c087b0fcbc"
      },
      "execution_count": null,
      "outputs": [
        {
          "output_type": "stream",
          "name": "stdout",
          "text": [
            "i: 222\n"
          ]
        }
      ]
    },
    {
      "cell_type": "code",
      "source": [
        "i=0"
      ],
      "metadata": {
        "id": "6dvsZbxUw-Jl"
      },
      "execution_count": 389,
      "outputs": []
    },
    {
      "cell_type": "code",
      "source": [
        "for j in range(1024):\n",
        "  if Correlation_robust_input_cifar[j] < 9e-02:\n",
        "    i=i+1\n",
        "print(\"i:\", i)"
      ],
      "metadata": {
        "colab": {
          "base_uri": "https://localhost:8080/"
        },
        "id": "31CbNnw1xxwl",
        "outputId": "d39a222b-c7ca-4dc6-e453-7ac2a60c5940"
      },
      "execution_count": 390,
      "outputs": [
        {
          "output_type": "stream",
          "name": "stdout",
          "text": [
            "i: 842\n"
          ]
        }
      ]
    },
    {
      "cell_type": "code",
      "source": [
        "for j in range(1024):\n",
        "  if Correlation_robust_input_cifar[j] < 9e-02 and Correlation_normal_cifar[j] > 1.7e-02:\n",
        "    i=i+1\n",
        "print(\"i:\", i)"
      ],
      "metadata": {
        "colab": {
          "base_uri": "https://localhost:8080/"
        },
        "id": "L2A7Y3WwxYR9",
        "outputId": "3baf4424-d9e0-464a-80ef-564920e3fc19"
      },
      "execution_count": null,
      "outputs": [
        {
          "output_type": "stream",
          "name": "stdout",
          "text": [
            "i: 627\n"
          ]
        }
      ]
    },
    {
      "cell_type": "code",
      "source": [
        "for j in range(1024):\n",
        "  if Correlation_perturbed_cifar[j] > 9.5e-02:\n",
        "    i=i+1\n",
        "print(\"i:\", i)"
      ],
      "metadata": {
        "colab": {
          "base_uri": "https://localhost:8080/"
        },
        "id": "EXwWWCai9IQx",
        "outputId": "b516c39b-da82-4ef5-9393-685208905e76"
      },
      "execution_count": null,
      "outputs": [
        {
          "output_type": "stream",
          "name": "stdout",
          "text": [
            "i: 100\n"
          ]
        }
      ]
    },
    {
      "cell_type": "code",
      "source": [
        "for j in range(1024):\n",
        "  if Correlation_normal_cifar[j] > 9.5e-02:\n",
        "    i=i+1\n",
        "print(\"i:\", i)"
      ],
      "metadata": {
        "colab": {
          "base_uri": "https://localhost:8080/"
        },
        "id": "xndl7YosTKpL",
        "outputId": "8ca35ff3-ce28-495d-ab52-26e8861746e2"
      },
      "execution_count": 321,
      "outputs": [
        {
          "output_type": "stream",
          "name": "stdout",
          "text": [
            "i: 167\n"
          ]
        }
      ]
    },
    {
      "cell_type": "code",
      "source": [
        "for j in range(1024):\n",
        "  if Correlation_perturbed_cifar[j] > 9.5e-02 and Correlation_normal_cifar[j] > 10.9e-02:\n",
        "    i=i+1\n",
        "print(\"i:\", i)"
      ],
      "metadata": {
        "colab": {
          "base_uri": "https://localhost:8080/"
        },
        "id": "cY0aBn9XRzWC",
        "outputId": "c713f790-20dc-4041-ca51-a1ff648d320c"
      },
      "execution_count": 417,
      "outputs": [
        {
          "output_type": "stream",
          "name": "stdout",
          "text": [
            "i: 81\n"
          ]
        }
      ]
    },
    {
      "cell_type": "markdown",
      "source": [
        "imp"
      ],
      "metadata": {
        "id": "YYWygJivAjXD"
      }
    },
    {
      "cell_type": "code",
      "source": [
        "i=0"
      ],
      "metadata": {
        "id": "5IOQmOhtA3eE"
      },
      "execution_count": 431,
      "outputs": []
    },
    {
      "cell_type": "code",
      "source": [
        "for j in range(1024):\n",
        "  if Correlation_robust_input_cifar[j] < 9e-02 and Correlation_perturbed_cifar[j] > 9.5e-02 and Correlation_normal_cifar[j] > 10.9e-02:\n",
        "    i=i+1\n",
        "print(\"i:\", i)"
      ],
      "metadata": {
        "colab": {
          "base_uri": "https://localhost:8080/"
        },
        "id": "Q85AyqpaRp5L",
        "outputId": "076853c6-9257-4e72-ed4f-1dbdd871e3fc"
      },
      "execution_count": 424,
      "outputs": [
        {
          "output_type": "stream",
          "name": "stdout",
          "text": [
            "i: 0\n"
          ]
        }
      ]
    },
    {
      "cell_type": "code",
      "source": [
        "for j in range(1024):\n",
        "  if Correlation_robust_input_cifar[j] < 9e-02 and Correlation_perturbed_cifar[j] < 9.5e-02 and Correlation_normal_cifar[j] < 10.9e-02:\n",
        "    i=i+1\n",
        "print(\"i:\", i)"
      ],
      "metadata": {
        "colab": {
          "base_uri": "https://localhost:8080/"
        },
        "id": "cdbvfwAbZsLd",
        "outputId": "d2645203-1e56-4226-828f-3ec09754d403"
      },
      "execution_count": 432,
      "outputs": [
        {
          "output_type": "stream",
          "name": "stdout",
          "text": [
            "i: 826\n"
          ]
        }
      ]
    },
    {
      "cell_type": "code",
      "source": [
        "for j in range(1024):\n",
        "  if Correlation_perturbed_cifar[j] < 9.5e-02 and Correlation_normal_cifar[j] > 10.9e-02:\n",
        "    i=i+1\n",
        "print(\"i:\", i)"
      ],
      "metadata": {
        "colab": {
          "base_uri": "https://localhost:8080/"
        },
        "id": "eGJAeRB_Xy29",
        "outputId": "c209720d-2417-4120-8c6c-f72c3b74808c"
      },
      "execution_count": 420,
      "outputs": [
        {
          "output_type": "stream",
          "name": "stdout",
          "text": [
            "i: 40\n"
          ]
        }
      ]
    },
    {
      "cell_type": "code",
      "source": [
        "for j in range(1024):\n",
        "  if Correlation_robust_input_cifar[j] < 9e-02 and Correlation_perturbed_cifar[j] > 9.5e-02 and Correlation_normal_cifar[j] > 9.5e-02 and Correlation_robust_input_wrong_label_cifar[j] < 1e-02:\n",
        "    i=i+1\n",
        "print(\"i:\", i)"
      ],
      "metadata": {
        "colab": {
          "base_uri": "https://localhost:8080/"
        },
        "id": "Mj6LBXvuu4ec",
        "outputId": "d1fb9fe2-f983-4fc4-aa89-2c695c6f865e"
      },
      "execution_count": 329,
      "outputs": [
        {
          "output_type": "stream",
          "name": "stdout",
          "text": [
            "i: 1\n"
          ]
        }
      ]
    },
    {
      "cell_type": "code",
      "source": [
        "for j in range(1024):\n",
        "  if Correlation_robust_input_cifar[j] > 9e-02 and Correlation_normal_cifar[j] > 1.7e-02 and Correlation_robust_input_wrong_label_cifar[j] > 2e-02:\n",
        "    i=i+1\n",
        "print(\"i:\", i)"
      ],
      "metadata": {
        "colab": {
          "base_uri": "https://localhost:8080/"
        },
        "id": "UdtUBSOuCIJr",
        "outputId": "0b2ebf3a-d5aa-43b5-b288-400179359b9d"
      },
      "execution_count": null,
      "outputs": [
        {
          "output_type": "stream",
          "name": "stdout",
          "text": [
            "i: 54\n"
          ]
        }
      ]
    },
    {
      "cell_type": "code",
      "source": [
        "for j in range(1024):\n",
        "  if Correlation_robust_input_cifar[j] < 9e-02 and Correlation_normal_cifar[j] < 1.7e-02:\n",
        "    i=i+1\n",
        "print(\"i:\", i)"
      ],
      "metadata": {
        "colab": {
          "base_uri": "https://localhost:8080/"
        },
        "id": "agKufPuXA_VD",
        "outputId": "30398501-8956-4465-d3cd-20ff3aa43cb4"
      },
      "execution_count": null,
      "outputs": [
        {
          "output_type": "stream",
          "name": "stdout",
          "text": [
            "i: 213\n"
          ]
        }
      ]
    },
    {
      "cell_type": "code",
      "source": [
        "for j in range(1024):\n",
        "  if Correlation_robust_input_cifar[j] < 7e-02 and Correlation_perturbed_cifar[j] > 9e-02:\n",
        "    i=i+1\n",
        "print(\"i:\", i)"
      ],
      "metadata": {
        "colab": {
          "base_uri": "https://localhost:8080/"
        },
        "id": "jwTJGyBu0S_i",
        "outputId": "7f567914-10d3-4738-82aa-13a60fecee63"
      },
      "execution_count": null,
      "outputs": [
        {
          "output_type": "stream",
          "name": "stdout",
          "text": [
            "i: 8\n"
          ]
        }
      ]
    },
    {
      "cell_type": "code",
      "source": [
        "for j in range(1024):\n",
        "  if Correlation_robust_input_cifar[j] < 3e-02 and Correlation_normal_cifar[j] > 1.7e-02 and Correlation_robust_input_wrong_label_cifar[j] > 1e-02:\n",
        "    i=i+1\n",
        "print(\"i:\", i)"
      ],
      "metadata": {
        "colab": {
          "base_uri": "https://localhost:8080/"
        },
        "id": "0aZM2SX9vDdt",
        "outputId": "f0fbb8db-7f07-4fa1-836c-43703d467aae"
      },
      "execution_count": null,
      "outputs": [
        {
          "output_type": "stream",
          "name": "stdout",
          "text": [
            "i: 76\n"
          ]
        }
      ]
    },
    {
      "cell_type": "code",
      "source": [
        "for j in range(1024):\n",
        "  if Correlation_robust_input_cifar[j] < 3e-02 and Correlation_perturbed_cifar[j] > 3.5e-02 and Correlation_normal_cifar[j] > 1.7e-02 and Correlation_robust_input_wrong_label_cifar[j] > 2e-02:\n",
        "    i=i+1\n",
        "print(\"i:\", i)\n"
      ],
      "metadata": {
        "colab": {
          "base_uri": "https://localhost:8080/"
        },
        "id": "wjUeYq-srKqK",
        "outputId": "e19f1cdd-9640-452c-e287-d81dd16dc9cd"
      },
      "execution_count": null,
      "outputs": [
        {
          "output_type": "stream",
          "name": "stdout",
          "text": [
            "i: 3\n"
          ]
        }
      ]
    },
    {
      "cell_type": "code",
      "source": [
        "i=0"
      ],
      "metadata": {
        "id": "HiMHHrZskYSA"
      },
      "execution_count": null,
      "outputs": []
    },
    {
      "cell_type": "code",
      "source": [
        "for j in range(1024):\n",
        "  if Correlation_robust_input_cifar[j] < 8e-03 and Correlation_normal_cifar[j] > 1.7e-02:\n",
        "    i=i+1\n",
        "print(\"i:\", i)"
      ],
      "metadata": {
        "colab": {
          "base_uri": "https://localhost:8080/"
        },
        "id": "g7nXF-30jDu5",
        "outputId": "714fdd6c-b719-425d-9899-6d7748dc2add"
      },
      "execution_count": null,
      "outputs": [
        {
          "output_type": "stream",
          "name": "stdout",
          "text": [
            "i: 42\n"
          ]
        }
      ]
    },
    {
      "cell_type": "code",
      "source": [
        "i=0"
      ],
      "metadata": {
        "id": "wE-KF9zEzT1W"
      },
      "execution_count": null,
      "outputs": []
    },
    {
      "cell_type": "code",
      "source": [
        "for j in range(1024):\n",
        "  if Correlation_robust_input_cifar[j] < 8e-03 and Correlation_normal_cifar[j] < 1.7e-02:\n",
        "    i=i+1\n",
        "print(\"i:\", i)"
      ],
      "metadata": {
        "colab": {
          "base_uri": "https://localhost:8080/"
        },
        "id": "EVWj8AnPzViE",
        "outputId": "c5287e03-405b-4a7d-d883-8f1664351ff1"
      },
      "execution_count": null,
      "outputs": [
        {
          "output_type": "stream",
          "name": "stdout",
          "text": [
            "i: 67\n"
          ]
        }
      ]
    },
    {
      "cell_type": "code",
      "source": [
        "i=0"
      ],
      "metadata": {
        "id": "5AFfEQJ4z0xv"
      },
      "execution_count": null,
      "outputs": []
    },
    {
      "cell_type": "code",
      "source": [
        "for j in range(1024):\n",
        "  if Correlation_robust_input_cifar[j] < 8e-03 and Correlation_normal_cifar[j] > 1.7e-02 and Correlation_perturbed_cifar[j] < 3.5e-02:\n",
        "    i=i+1\n",
        "print(\"i:\", i)"
      ],
      "metadata": {
        "colab": {
          "base_uri": "https://localhost:8080/"
        },
        "id": "OMwMp0VIz2dl",
        "outputId": "cb0fc31d-7a89-4dba-c04f-de96d697b4a9"
      },
      "execution_count": null,
      "outputs": [
        {
          "output_type": "stream",
          "name": "stdout",
          "text": [
            "i: 39\n"
          ]
        }
      ]
    },
    {
      "cell_type": "code",
      "source": [
        "i=0"
      ],
      "metadata": {
        "id": "vTKtswqrUzNe"
      },
      "execution_count": null,
      "outputs": []
    },
    {
      "cell_type": "code",
      "source": [
        "for j in range(1024):\n",
        "  if Correlation_robust_input_cifar[j] < 8e-03 and Correlation_normal_cifar[j] > 1.7e-02 and Correlation_perturbed_cifar[j] > 3.5e-02:\n",
        "    i=i+1\n",
        "print(\"i:\", i)"
      ],
      "metadata": {
        "colab": {
          "base_uri": "https://localhost:8080/"
        },
        "id": "uIYVG8LZU0oZ",
        "outputId": "ed3314a1-a552-4ffe-89db-b0ec2d7bb52c"
      },
      "execution_count": null,
      "outputs": [
        {
          "output_type": "stream",
          "name": "stdout",
          "text": [
            "i: 3\n"
          ]
        }
      ]
    }
  ]
}